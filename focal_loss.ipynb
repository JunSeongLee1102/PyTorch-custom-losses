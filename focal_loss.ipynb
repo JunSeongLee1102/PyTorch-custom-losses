{
 "cells": [
  {
   "cell_type": "code",
   "execution_count": 15,
   "metadata": {},
   "outputs": [],
   "source": [
    "import torch\n",
    "import torch.nn as nn\n",
    "import numpy as np\n",
    "\n",
    "\n",
    "class FocalLoss(nn.Module):\n",
    "    def __init__(\n",
    "        self,\n",
    "        gamma=0.0,\n",
    "        num_classes=6,\n",
    "        alpha=None,\n",
    "        max_batch_size=256,\n",
    "        eps=1e-4,\n",
    "        mode=\"class\",\n",
    "    ):\n",
    "        super().__init__()\n",
    "        self.gamma = gamma\n",
    "        if alpha == None:\n",
    "            alpha = torch.ones(num_classes)\n",
    "        self.alpha = alpha.unsqueeze(0).repeat(max_batch_size, 1)\n",
    "        self.kl_loss = nn.KLDivLoss(reduction=\"batchmean\")\n",
    "        self.eps = eps\n",
    "        self.mode = mode\n",
    "\n",
    "    def forward_log_alpha(self, x1, x2):\n",
    "        x = x1 * torch.log(x2)\n",
    "        return x\n",
    "\n",
    "    def forward(self, pred, target):\n",
    "        device = pred.get_device()\n",
    "        pred = torch.nn.functional.softmax(pred, dim=1)\n",
    "        pred = torch.clamp(pred, self.eps, 1 - self.eps)\n",
    "        inv_pred = 1 - pred\n",
    "        inv_pred = torch.clamp(inv_pred, self.eps, 1 - self.eps)\n",
    "        target = torch.clamp(target, self.eps, 1 - self.eps)\n",
    "        pred_log = self.forward_log_alpha(target, pred)\n",
    "        target_log = self.forward_log_alpha(target, target)\n",
    "        if device < 0:\n",
    "            loss = -(inv_pred**self.gamma) * self.alpha[: pred.shape[0]]\n",
    "        else:\n",
    "            loss = -(inv_pred**self.gamma) * self.alpha[: pred.shape[0]].to(\n",
    "                pred.get_device()\n",
    "            )\n",
    "        loss *= (pred_log - target_log) if self.mode == \"kl\" else pred_log\n",
    "        loss = torch.mean(torch.sum(loss, dim=1))\n",
    "        return loss"
   ]
  },
  {
   "cell_type": "code",
   "execution_count": 16,
   "metadata": {},
   "outputs": [
    {
     "name": "stdout",
     "output_type": "stream",
     "text": [
      "tensor(1.8204)\n",
      "tensor(1.8204)\n",
      "tensor(0.0287)\n",
      "tensor(0.0287)\n"
     ]
    }
   ],
   "source": [
    "pred = torch.ones(2, 6) / 6\n",
    "target = torch.ones(2, 6) / 6\n",
    "pred[0, 0] = 1\n",
    "\n",
    "# Validation of the focal loss\n",
    "cross = nn.CrossEntropyLoss()\n",
    "print(cross(pred, target))\n",
    "focal_loss = FocalLoss(mode=\"class\")\n",
    "print(focal_loss(pred, target))\n",
    "\n",
    "# Validation of the focal kl-divergence\n",
    "kl_div = nn.KLDivLoss(reduction=\"batchmean\")\n",
    "print(kl_div(torch.nn.functional.log_softmax(pred, dim=1), target))\n",
    "focal_loss = FocalLoss(mode=\"kl\")\n",
    "print(focal_loss(pred, target))"
   ]
  },
  {
   "cell_type": "code",
   "execution_count": null,
   "metadata": {},
   "outputs": [],
   "source": []
  },
  {
   "cell_type": "code",
   "execution_count": null,
   "metadata": {},
   "outputs": [],
   "source": []
  }
 ],
 "metadata": {
  "kernelspec": {
   "display_name": "Python 3",
   "language": "python",
   "name": "python3"
  },
  "language_info": {
   "codemirror_mode": {
    "name": "ipython",
    "version": 3
   },
   "file_extension": ".py",
   "mimetype": "text/x-python",
   "name": "python",
   "nbconvert_exporter": "python",
   "pygments_lexer": "ipython3",
   "version": "3.11.5"
  }
 },
 "nbformat": 4,
 "nbformat_minor": 2
}
